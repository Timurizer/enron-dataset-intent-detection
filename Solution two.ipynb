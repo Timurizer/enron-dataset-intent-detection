{
 "cells": [
  {
   "cell_type": "markdown",
   "metadata": {},
   "source": [
    "### Second solution\n",
    "\n",
    "For the second solution I'm using tokenizer for word embedding. I'm also going to use LSTM.\n",
    "\n",
    "I've commented all lines of code that may take a lot of time in order to avoid rewriting weights.  \n",
    "Uncomment if needed"
   ]
  },
  {
   "cell_type": "code",
   "execution_count": null,
   "metadata": {},
   "outputs": [],
   "source": [
    "from __future__ import print_function\n",
    "\n",
    "import pandas as pd\n",
    "\n",
    "from gensim.corpora.dictionary import Dictionary\n",
    "\n",
    "from keras.preprocessing import sequence\n",
    "from keras.preprocessing.sequence import pad_sequences\n",
    "from keras.models import Sequential\n",
    "from keras.layers import Dense, Embedding, Dropout, Activation\n",
    "from keras.layers import LSTM, GlobalAveragePooling1D, SpatialDropout1D\n",
    "from keras.datasets import imdb\n",
    "from keras.callbacks import ModelCheckpoint\n",
    "from keras import regularizers\n",
    "\n",
    "from keras.preprocessing.text import Tokenizer\n",
    "from sklearn.model_selection import train_test_split\n",
    "from sklearn.utils import class_weight\n",
    "\n",
    "import matplotlib.pyplot as plt\n",
    "plt.style.use('ggplot')"
   ]
  },
  {
   "cell_type": "code",
   "execution_count": 106,
   "metadata": {},
   "outputs": [],
   "source": [
    "def plot_history(history):\n",
    "    acc = history.history['acc']\n",
    "    val_acc = history.history['val_acc']\n",
    "    loss = history.history['loss']\n",
    "    val_loss = history.history['val_loss']\n",
    "    x = range(1, len(acc) + 1)\n",
    "\n",
    "    plt.figure(figsize=(12, 5))\n",
    "    plt.subplot(1, 2, 1)\n",
    "    plt.plot(x, acc, 'b', label='Training acc')\n",
    "    plt.plot(x, val_acc, 'r', label='Validation acc')\n",
    "    plt.title('Training and validation accuracy')\n",
    "    plt.legend()\n",
    "    plt.subplot(1, 2, 2)\n",
    "    plt.plot(x, loss, 'b', label='Training loss')\n",
    "    plt.plot(x, val_loss, 'r', label='Validation loss')\n",
    "    plt.title('Training and validation loss')\n",
    "    plt.legend()"
   ]
  },
  {
   "cell_type": "code",
   "execution_count": 63,
   "metadata": {},
   "outputs": [],
   "source": [
    "train_df = pd.read_csv('train.csv')\n",
    "test_df = pd.read_csv('test.csv')"
   ]
  },
  {
   "cell_type": "code",
   "execution_count": 64,
   "metadata": {},
   "outputs": [
    {
     "data": {
      "text/plain": [
       "4649"
      ]
     },
     "execution_count": 64,
     "metadata": {},
     "output_type": "execute_result"
    }
   ],
   "source": [
    "texts = list(train_df['text'])\n",
    "texts.extend(test_df['text'])\n",
    "len(texts)"
   ]
  },
  {
   "cell_type": "code",
   "execution_count": 65,
   "metadata": {},
   "outputs": [],
   "source": [
    "def yes_no_int(text):\n",
    "    if text == \"Yes\":\n",
    "        return 1\n",
    "    else:\n",
    "        return 0"
   ]
  },
  {
   "cell_type": "code",
   "execution_count": 66,
   "metadata": {},
   "outputs": [],
   "source": [
    "train_df['labels'] = train_df['labels'].apply(yes_no_int)\n",
    "test_df['labels'] = test_df['labels'].apply(yes_no_int)"
   ]
  },
  {
   "cell_type": "code",
   "execution_count": 67,
   "metadata": {},
   "outputs": [
    {
     "data": {
      "text/plain": [
       "4649"
      ]
     },
     "execution_count": 67,
     "metadata": {},
     "output_type": "execute_result"
    }
   ],
   "source": [
    "texts = list(train_df['text'])\n",
    "texts.extend(test_df['text'])\n",
    "len(texts)"
   ]
  },
  {
   "cell_type": "code",
   "execution_count": 68,
   "metadata": {
    "scrolled": true
   },
   "outputs": [
    {
     "data": {
      "text/plain": [
       "text      1719\n",
       "labels    1719\n",
       "dtype: int64"
      ]
     },
     "execution_count": 68,
     "metadata": {},
     "output_type": "execute_result"
    }
   ],
   "source": [
    "train_df[train_df['labels']==1].count()"
   ]
  },
  {
   "cell_type": "code",
   "execution_count": 69,
   "metadata": {},
   "outputs": [
    {
     "data": {
      "text/plain": [
       "array([0, 1])"
      ]
     },
     "execution_count": 69,
     "metadata": {},
     "output_type": "execute_result"
    }
   ],
   "source": [
    "test_df['labels'].unique()"
   ]
  },
  {
   "cell_type": "code",
   "execution_count": 70,
   "metadata": {},
   "outputs": [
    {
     "data": {
      "text/plain": [
       "4649"
      ]
     },
     "execution_count": 70,
     "metadata": {},
     "output_type": "execute_result"
    }
   ],
   "source": [
    "labels = list(train_df['labels'])\n",
    "labels.extend(test_df['labels'])\n",
    "len(labels)"
   ]
  },
  {
   "cell_type": "code",
   "execution_count": 117,
   "metadata": {},
   "outputs": [],
   "source": [
    "tokenizer = Tokenizer(num_words=6000, filters='!\"#$%&()*+,-./:;<=>?@[\\]^_`{|}~', lower=True)"
   ]
  },
  {
   "cell_type": "code",
   "execution_count": 118,
   "metadata": {},
   "outputs": [],
   "source": [
    "tokenizer.fit_on_texts(texts)"
   ]
  },
  {
   "cell_type": "code",
   "execution_count": 119,
   "metadata": {},
   "outputs": [],
   "source": [
    "X = tokenizer.texts_to_sequences(texts)\n",
    "X = pad_sequences(X, maxlen=216)"
   ]
  },
  {
   "cell_type": "code",
   "execution_count": 120,
   "metadata": {},
   "outputs": [
    {
     "data": {
      "text/plain": [
       "(4649, 216)"
      ]
     },
     "execution_count": 120,
     "metadata": {},
     "output_type": "execute_result"
    }
   ],
   "source": [
    "X.shape"
   ]
  },
  {
   "cell_type": "code",
   "execution_count": 121,
   "metadata": {},
   "outputs": [],
   "source": [
    "vocab_size = len(tokenizer.word_index)"
   ]
  },
  {
   "cell_type": "code",
   "execution_count": 122,
   "metadata": {},
   "outputs": [
    {
     "data": {
      "text/plain": [
       "6876"
      ]
     },
     "execution_count": 122,
     "metadata": {},
     "output_type": "execute_result"
    }
   ],
   "source": [
    "vocab_size"
   ]
  },
  {
   "cell_type": "code",
   "execution_count": 123,
   "metadata": {},
   "outputs": [],
   "source": [
    "x_train = tokenizer.texts_to_sequences(train_df['text'].values)\n",
    "x_train = pad_sequences(x_train, maxlen=216, truncating='post')"
   ]
  },
  {
   "cell_type": "code",
   "execution_count": 124,
   "metadata": {},
   "outputs": [],
   "source": [
    "x_test = tokenizer.texts_to_sequences(test_df['text'].values)\n",
    "x_test = pad_sequences(x_test, maxlen=216, truncating='post')"
   ]
  },
  {
   "cell_type": "code",
   "execution_count": 125,
   "metadata": {},
   "outputs": [
    {
     "name": "stdout",
     "output_type": "stream",
     "text": [
      "[0.94349845 1.06369983]\n"
     ]
    }
   ],
   "source": [
    "class_weights = class_weight.compute_class_weight('balanced',\n",
    "                                                 train_df['labels'].unique(),\n",
    "                                                 train_df['labels'])\n",
    "print(class_weights)"
   ]
  },
  {
   "cell_type": "code",
   "execution_count": 126,
   "metadata": {
    "scrolled": false
   },
   "outputs": [
    {
     "data": {
      "text/plain": [
       "(992, 216)"
      ]
     },
     "execution_count": 126,
     "metadata": {},
     "output_type": "execute_result"
    }
   ],
   "source": [
    "x_test.shape"
   ]
  },
  {
   "cell_type": "code",
   "execution_count": 127,
   "metadata": {},
   "outputs": [
    {
     "data": {
      "text/plain": [
       "(3657, 216)"
      ]
     },
     "execution_count": 127,
     "metadata": {},
     "output_type": "execute_result"
    }
   ],
   "source": [
    "x_train.shape"
   ]
  },
  {
   "cell_type": "markdown",
   "metadata": {},
   "source": [
    "### Try 1\n",
    "LSTM\n",
    "\n",
    "LSTM may be useful because the use of contextual information and past experience of the network’s input is important while working with text."
   ]
  },
  {
   "cell_type": "code",
   "execution_count": 133,
   "metadata": {},
   "outputs": [],
   "source": [
    "model = Sequential()\n",
    "model.add(Embedding(6000, 128, input_length=x_train.shape[1]))\n",
    "model.add(SpatialDropout1D(0.2))\n",
    "model.add(LSTM(64, dropout=0.2, recurrent_dropout=0.2))\n",
    "model.add(Dense(1, activation='sigmoid'))\n",
    "\n",
    "model.compile(loss='binary_crossentropy', optimizer='adam', metrics=['accuracy'])"
   ]
  },
  {
   "cell_type": "code",
   "execution_count": 134,
   "metadata": {
    "scrolled": true
   },
   "outputs": [
    {
     "name": "stdout",
     "output_type": "stream",
     "text": [
      "Train on 3657 samples, validate on 992 samples\n",
      "Epoch 1/10\n",
      "3657/3657 [==============================] - 17s 5ms/step - loss: 0.6913 - acc: 0.5332 - val_loss: 0.6790 - val_acc: 0.6956\n",
      "\n",
      "Epoch 00001: val_loss improved from inf to 0.67902, saving model to weights1.hdf5\n",
      "Epoch 2/10\n",
      "3657/3657 [==============================] - 15s 4ms/step - loss: 0.6817 - acc: 0.5600 - val_loss: 0.6615 - val_acc: 0.7419\n",
      "\n",
      "Epoch 00002: val_loss improved from 0.67902 to 0.66147, saving model to weights1.hdf5\n",
      "Epoch 3/10\n",
      "3657/3657 [==============================] - 15s 4ms/step - loss: 0.6580 - acc: 0.6806 - val_loss: 0.6151 - val_acc: 0.7631\n",
      "\n",
      "Epoch 00003: val_loss improved from 0.66147 to 0.61512, saving model to weights1.hdf5\n",
      "Epoch 4/10\n",
      "3657/3657 [==============================] - 14s 4ms/step - loss: 0.6016 - acc: 0.7364 - val_loss: 0.5891 - val_acc: 0.6946\n",
      "\n",
      "Epoch 00004: val_loss improved from 0.61512 to 0.58906, saving model to weights1.hdf5\n",
      "Epoch 5/10\n",
      "3657/3657 [==============================] - 15s 4ms/step - loss: 0.5296 - acc: 0.7722 - val_loss: 0.4954 - val_acc: 0.7621\n",
      "\n",
      "Epoch 00005: val_loss improved from 0.58906 to 0.49537, saving model to weights1.hdf5\n",
      "Epoch 6/10\n",
      "3657/3657 [==============================] - 16s 4ms/step - loss: 0.4419 - acc: 0.8132 - val_loss: 0.4550 - val_acc: 0.7792\n",
      "\n",
      "Epoch 00006: val_loss improved from 0.49537 to 0.45499, saving model to weights1.hdf5\n",
      "Epoch 7/10\n",
      "3657/3657 [==============================] - 17s 5ms/step - loss: 0.3797 - acc: 0.8409 - val_loss: 0.4949 - val_acc: 0.7500\n",
      "\n",
      "Epoch 00007: val_loss did not improve from 0.45499\n",
      "Epoch 8/10\n",
      "3657/3657 [==============================] - 14s 4ms/step - loss: 0.3192 - acc: 0.8772 - val_loss: 0.4899 - val_acc: 0.7520\n",
      "\n",
      "Epoch 00008: val_loss did not improve from 0.45499\n",
      "Epoch 9/10\n",
      "3657/3657 [==============================] - 16s 4ms/step - loss: 0.2845 - acc: 0.8947 - val_loss: 0.5300 - val_acc: 0.7399\n",
      "\n",
      "Epoch 00009: val_loss did not improve from 0.45499\n",
      "Epoch 10/10\n",
      "3657/3657 [==============================] - 16s 4ms/step - loss: 0.2428 - acc: 0.9040 - val_loss: 0.5876 - val_acc: 0.7329\n",
      "\n",
      "Epoch 00010: val_loss did not improve from 0.45499\n"
     ]
    }
   ],
   "source": [
    "# checkpointer1 = ModelCheckpoint(filepath=\"weights1.hdf5\", verbose=1, save_best_only=True)\n",
    "# history = model.fit(x_train, train_df['labels'],\n",
    "#           class_weight=class_weights,\n",
    "#           batch_size=512,\n",
    "#           epochs=10,\n",
    "#           validation_data=(x_test, test_df['labels']),\n",
    "#           callbacks=[checkpointer1])"
   ]
  },
  {
   "cell_type": "code",
   "execution_count": 135,
   "metadata": {},
   "outputs": [],
   "source": [
    "model.load_weights(\"weights1.hdf5\")"
   ]
  },
  {
   "cell_type": "code",
   "execution_count": 136,
   "metadata": {
    "scrolled": true
   },
   "outputs": [
    {
     "name": "stdout",
     "output_type": "stream",
     "text": [
      "992/992 [==============================] - 1s 1ms/step\n",
      "Test loss: 0.45498659918385165\n",
      "Test accuracy: 0.7792338786586639\n"
     ]
    }
   ],
   "source": [
    "score, acc = model.evaluate(x_test, test_df['labels'], batch_size=512)\n",
    "print('Test loss:', score)\n",
    "print('Test accuracy:', acc)"
   ]
  },
  {
   "cell_type": "code",
   "execution_count": 137,
   "metadata": {},
   "outputs": [
    {
     "data": {
      "image/png": "[encoded data removed]",
      "text/plain": [
       "<Figure size 864x360 with 2 Axes>"
      ]
     },
     "metadata": {},
     "output_type": "display_data"
    }
   ],
   "source": [
    "plot_history(history)"
   ]
  },
  {
   "cell_type": "markdown",
   "metadata": {},
   "source": [
    "LSTM shows worse results in comparison with the first solution. Let's try something else."
   ]
  },
  {
   "cell_type": "markdown",
   "metadata": {},
   "source": [
    "### try 2\n",
    "\n",
    "Using max pooling\n",
    "\n",
    "Here I'm proposing that using max pooling may be a good idea. Features exctracted from tokenized data after demensionality reduction are more general and may lead to better score."
   ]
  },
  {
   "cell_type": "code",
   "execution_count": 49,
   "metadata": {},
   "outputs": [],
   "source": [
    "from keras.layers import Flatten, GlobalMaxPool1D"
   ]
  },
  {
   "cell_type": "code",
   "execution_count": 108,
   "metadata": {},
   "outputs": [],
   "source": [
    "model = Sequential()\n",
    "model.add(Embedding(input_dim=vocab_size, output_dim=128, input_length=x_train.shape[1]))\n",
    "model.add(GlobalMaxPool1D())\n",
    "model.add(Dense(256, activation='relu'))\n",
    "model.add(Dense(1, activation='sigmoid'))\n",
    "model.compile(optimizer='adam',\n",
    "              loss='binary_crossentropy',\n",
    "              metrics=['accuracy'])"
   ]
  },
  {
   "cell_type": "code",
   "execution_count": 109,
   "metadata": {
    "scrolled": true
   },
   "outputs": [
    {
     "name": "stdout",
     "output_type": "stream",
     "text": [
      "Train on 3657 samples, validate on 992 samples\n",
      "Epoch 1/10\n",
      "3657/3657 [==============================] - 6s 2ms/step - loss: 0.6861 - acc: 0.5458 - val_loss: 0.6698 - val_acc: 0.8407\n",
      "\n",
      "Epoch 00001: val_loss improved from inf to 0.66978, saving model to weights2.hdf5\n",
      "Epoch 2/10\n",
      "3657/3657 [==============================] - 6s 2ms/step - loss: 0.6315 - acc: 0.7342 - val_loss: 0.5491 - val_acc: 0.8357\n",
      "\n",
      "Epoch 00002: val_loss improved from 0.66978 to 0.54912, saving model to weights2.hdf5\n",
      "Epoch 3/10\n",
      "3657/3657 [==============================] - 5s 1ms/step - loss: 0.4572 - acc: 0.8250 - val_loss: 0.4220 - val_acc: 0.8196\n",
      "\n",
      "Epoch 00003: val_loss improved from 0.54912 to 0.42196, saving model to weights2.hdf5\n",
      "Epoch 4/10\n",
      "3657/3657 [==============================] - 5s 1ms/step - loss: 0.2960 - acc: 0.8903 - val_loss: 0.4268 - val_acc: 0.7903\n",
      "\n",
      "Epoch 00004: val_loss did not improve from 0.42196\n",
      "Epoch 5/10\n",
      "3657/3657 [==============================] - 5s 1ms/step - loss: 0.1932 - acc: 0.9319 - val_loss: 0.4747 - val_acc: 0.7792\n",
      "\n",
      "Epoch 00005: val_loss did not improve from 0.42196\n",
      "Epoch 6/10\n",
      "3657/3657 [==============================] - 6s 2ms/step - loss: 0.1206 - acc: 0.9642 - val_loss: 0.5007 - val_acc: 0.7712\n",
      "\n",
      "Epoch 00006: val_loss did not improve from 0.42196\n",
      "Epoch 7/10\n",
      "3657/3657 [==============================] - 5s 1ms/step - loss: 0.0732 - acc: 0.9839 - val_loss: 0.6167 - val_acc: 0.7329\n",
      "\n",
      "Epoch 00007: val_loss did not improve from 0.42196\n",
      "Epoch 8/10\n",
      "3657/3657 [==============================] - 6s 2ms/step - loss: 0.0443 - acc: 0.9926 - val_loss: 0.5957 - val_acc: 0.7591\n",
      "\n",
      "Epoch 00008: val_loss did not improve from 0.42196\n",
      "Epoch 9/10\n",
      "3657/3657 [==============================] - 5s 1ms/step - loss: 0.0269 - acc: 0.9967 - val_loss: 0.6201 - val_acc: 0.7560\n",
      "\n",
      "Epoch 00009: val_loss did not improve from 0.42196\n",
      "Epoch 10/10\n",
      "3657/3657 [==============================] - 5s 1ms/step - loss: 0.0173 - acc: 0.9989 - val_loss: 0.6706 - val_acc: 0.7470\n",
      "\n",
      "Epoch 00010: val_loss did not improve from 0.42196\n"
     ]
    }
   ],
   "source": [
    "# checkpointer1 = ModelCheckpoint(filepath=\"weights2.hdf5\", verbose=1, save_best_only=True)\n",
    "# history = model.fit(x_train, train_df['labels'],\n",
    "#           class_weight=class_weights,\n",
    "#           batch_size=128,\n",
    "#           epochs=10,\n",
    "#           validation_data=(x_test, test_df['labels']),\n",
    "#           callbacks=[checkpointer1])"
   ]
  },
  {
   "cell_type": "code",
   "execution_count": 110,
   "metadata": {},
   "outputs": [],
   "source": [
    "model.load_weights(\"weights2.hdf5\")"
   ]
  },
  {
   "cell_type": "code",
   "execution_count": 111,
   "metadata": {},
   "outputs": [
    {
     "name": "stdout",
     "output_type": "stream",
     "text": [
      "992/992 [==============================] - 0s 35us/step\n",
      "Test loss: 0.4219647905518932\n",
      "Test accuracy: 0.8195564400765204\n"
     ]
    }
   ],
   "source": [
    "score, acc = model.evaluate(x_test, test_df['labels'], batch_size=512)\n",
    "print('Test loss:', score)\n",
    "print('Test accuracy:', acc)"
   ]
  },
  {
   "cell_type": "code",
   "execution_count": 112,
   "metadata": {},
   "outputs": [
    {
     "data": {
      "image/png": "[encoded data removed]",
      "text/plain": [
       "<Figure size 864x360 with 2 Axes>"
      ]
     },
     "metadata": {},
     "output_type": "display_data"
    }
   ],
   "source": [
    "plot_history(history)"
   ]
  },
  {
   "cell_type": "markdown",
   "metadata": {},
   "source": [
    "The score of my second solution is 81.9%"
   ]
  },
  {
   "cell_type": "code",
   "execution_count": null,
   "metadata": {},
   "outputs": [],
   "source": []
  }
 ],
 "metadata": {
  "kernelspec": {
   "display_name": "Python 3",
   "language": "python",
   "name": "python3"
  },
  "language_info": {
   "codemirror_mode": {
    "name": "ipython",
    "version": 3
   },
   "file_extension": ".py",
   "mimetype": "text/x-python",
   "name": "python",
   "nbconvert_exporter": "python",
   "pygments_lexer": "ipython3",
   "version": "3.6.5"
  }
 },
 "nbformat": 4,
 "nbformat_minor": 2
}
