{
 "cells": [
  {
   "cell_type": "markdown",
   "metadata": {},
   "source": [
    "### Third solution\n",
    "\n",
    "For the third solution I decided to use pre-trained word embeddings (using glove with 300d vectors).  \n",
    "In order to run it all, download glove and change ```GLOVE_PATH```\n",
    "\n",
    "I've commented all lines of code that may take a lot of time in order to avoid rewriting weights and glove file.  \n",
    "Uncomment if needed"
   ]
  },
  {
   "cell_type": "code",
   "execution_count": 10,
   "metadata": {},
   "outputs": [],
   "source": [
    "import pandas as pd\n",
    "import numpy as np\n",
    "\n",
    "from copy import deepcopy\n",
    "\n",
    "from gensim.test.utils import datapath, get_tmpfile\n",
    "from gensim.scripts.glove2word2vec import glove2word2vec\n",
    "\n",
    "from gensim.models import KeyedVectors\n",
    "\n",
    "GLOVE_PATH = \"glove.6B/glove.6B.300d.txt\"\n",
    "GLOVE_W2V_FORMAT = \"glove_w2v.txt\"\n",
    "\n",
    "import matplotlib.pyplot as plt\n",
    "plt.style.use('ggplot')"
   ]
  },
  {
   "cell_type": "code",
   "execution_count": 11,
   "metadata": {},
   "outputs": [],
   "source": [
    "def plot_history(history):\n",
    "    acc = history.history['acc']\n",
    "    val_acc = history.history['val_acc']\n",
    "    loss = history.history['loss']\n",
    "    val_loss = history.history['val_loss']\n",
    "    x = range(1, len(acc) + 1)\n",
    "\n",
    "    plt.figure(figsize=(12, 5))\n",
    "    plt.subplot(1, 2, 1)\n",
    "    plt.plot(x, acc, 'b', label='Training acc')\n",
    "    plt.plot(x, val_acc, 'r', label='Validation acc')\n",
    "    plt.title('Training and validation accuracy')\n",
    "    plt.legend()\n",
    "    plt.subplot(1, 2, 2)\n",
    "    plt.plot(x, loss, 'b', label='Training loss')\n",
    "    plt.plot(x, val_loss, 'r', label='Validation loss')\n",
    "    plt.title('Training and validation loss')\n",
    "    plt.legend()"
   ]
  },
  {
   "cell_type": "markdown",
   "metadata": {},
   "source": [
    "### Preparing embeddings"
   ]
  },
  {
   "cell_type": "code",
   "execution_count": 3,
   "metadata": {},
   "outputs": [],
   "source": [
    "# _ = glove2word2vec(GLOVE_PATH, GLOVE_W2V_FORMAT)"
   ]
  },
  {
   "cell_type": "code",
   "execution_count": 12,
   "metadata": {},
   "outputs": [],
   "source": [
    "model = KeyedVectors.load_word2vec_format(GLOVE_W2V_FORMAT)"
   ]
  },
  {
   "cell_type": "code",
   "execution_count": 13,
   "metadata": {},
   "outputs": [],
   "source": [
    "class Vectorizer(object):\n",
    "\n",
    "    def __init__(self, model):\n",
    "        \n",
    "        self.model = model\n",
    "        self.dim = model.vector_size\n",
    "\n",
    "    def transform(self, word):\n",
    "      \n",
    "        if word in self.model.vocab.keys():\n",
    "            word_vec = self.model.word_vec(word)\n",
    "                    \n",
    "            return np.array(word_vec)\n",
    "        \n",
    "        else:\n",
    "            return None"
   ]
  },
  {
   "cell_type": "code",
   "execution_count": 14,
   "metadata": {},
   "outputs": [],
   "source": [
    "vectorizer = Vectorizer(model)"
   ]
  },
  {
   "cell_type": "code",
   "execution_count": 19,
   "metadata": {
    "scrolled": true
   },
   "outputs": [
    {
     "data": {
      "text/plain": [
       "array([ 2.6640e-02,  7.3666e-01,  1.4519e-01, -1.2378e+00, -7.8431e-02,\n",
       "        1.1878e-01,  1.1072e-01, -5.7459e-01, -5.0329e-01, -2.0694e+00,\n",
       "        5.6273e-01, -6.5392e-02,  2.6165e-01, -2.9559e-01, -1.3630e-01,\n",
       "        6.6476e-01,  1.1782e-01,  8.5784e-02, -3.1630e-01, -4.7456e-01,\n",
       "       -3.1628e-01, -6.1258e-01,  1.6968e-01,  2.9080e-01,  1.5166e-02,\n",
       "        1.9775e-01,  2.6749e-01,  1.0875e-01, -8.6687e-02, -5.8117e-01,\n",
       "        1.9078e-02, -3.5914e-01, -2.6973e-01, -7.0312e-02, -7.1556e-01,\n",
       "        1.1675e-01, -5.7603e-01,  2.2745e-01, -5.4766e-01,  1.5907e-01,\n",
       "        3.0659e-01,  3.1730e-01,  1.1656e-01, -1.0250e-01,  1.1470e-03,\n",
       "       -2.2274e-01, -5.3550e-01, -4.3364e-01, -2.0306e-01, -3.5997e-01,\n",
       "        3.5991e-01, -2.0668e-01,  1.4845e-01,  7.7065e-02,  5.2591e-02,\n",
       "        3.8939e-01,  9.9486e-02, -5.3198e-01, -1.0236e-01,  3.1587e-01,\n",
       "        2.4825e-01, -3.3952e-01,  8.6676e-02, -3.4517e-01,  4.2221e-01,\n",
       "        3.3158e-01,  3.3441e-01, -3.4035e-01,  4.9647e-02,  4.5535e-01,\n",
       "       -2.9221e-01,  5.3760e-01, -2.4172e-01, -1.9806e-01, -6.0162e-01,\n",
       "       -2.6304e-01, -1.7989e-01,  2.5871e-02,  6.7705e-02,  3.2465e-01,\n",
       "       -3.1219e-01,  5.5771e-01,  3.5352e-01,  6.6252e-02, -9.2763e-01,\n",
       "        9.8308e-02,  2.7016e-01, -3.8604e-01,  4.6341e-01, -1.4712e-01,\n",
       "       -1.7246e-01,  6.1300e-01,  1.9196e-01, -5.0073e-01,  5.5353e-01,\n",
       "        5.9555e-01, -2.8754e-01,  5.0070e-03,  8.5646e-02, -7.7133e-01,\n",
       "        1.4233e-01,  5.0963e-02, -1.6352e-01, -5.5655e-01,  6.3916e-01,\n",
       "       -5.6911e-01,  2.5478e-01,  1.3836e-01, -3.3397e-01,  9.6501e-03,\n",
       "        9.5206e-01, -3.2643e-01, -1.9024e-01, -9.8490e-02, -1.1975e-01,\n",
       "        7.3214e-02, -2.6713e-01,  4.0392e-01, -4.7584e-01, -6.0530e-01,\n",
       "        1.3948e-01,  4.5429e-01, -4.8197e-01,  1.4028e-01, -2.7306e-01,\n",
       "        1.9364e-01, -5.4169e-01, -8.9701e-01, -1.1012e-01,  8.3703e-01,\n",
       "        8.0042e-02,  4.0842e-02,  1.3206e-01, -2.0571e-02,  2.5598e-01,\n",
       "        1.4420e-01,  1.8506e-01, -8.3767e-01,  6.2531e-01, -1.2342e-01,\n",
       "        2.2487e-01,  1.3656e-01,  3.1835e-01, -5.9312e-01, -6.5241e-01,\n",
       "        1.2646e-01,  2.9710e-01,  3.8490e-01, -9.1171e-02,  2.2974e-01,\n",
       "        2.0031e-01,  1.6401e-01, -2.5980e-01,  2.2931e-01,  5.2604e-01,\n",
       "       -1.7770e-01, -5.9127e-01, -2.9570e-02,  4.0205e-01,  3.5889e-01,\n",
       "        1.7115e-01, -5.5794e-01, -5.7654e-01,  3.0737e-01, -7.1486e-02,\n",
       "        1.6874e-01, -4.2411e-01, -2.9175e-01,  4.7975e-01,  4.5184e-01,\n",
       "        2.4226e-01,  1.8675e-02,  4.4254e-01, -1.6109e-01, -8.2916e-02,\n",
       "        1.6134e-01,  1.7379e-01, -4.9322e-02,  2.1184e-01,  1.6186e-01,\n",
       "        2.8445e-01,  1.2450e-01,  4.4993e-01,  5.3492e-01, -1.1432e-01,\n",
       "        5.1511e-01, -1.1698e-01, -4.9841e-01, -4.1364e-01, -1.7237e-02,\n",
       "       -4.0207e-01,  1.9372e-01,  3.2043e-01,  4.0429e-02, -4.7952e-02,\n",
       "       -5.9883e-01,  8.2199e-01,  3.9530e-02, -1.7323e-01, -6.0617e-01,\n",
       "        7.8674e-01,  4.6600e-01, -3.9053e-01, -7.7733e-01, -2.1586e-01,\n",
       "        4.4002e-02,  7.6496e-02,  2.9069e-01, -2.8936e-01,  1.0686e-03,\n",
       "        2.9252e-01, -1.6770e-01, -8.3672e-01,  3.4784e-01, -7.4489e-01,\n",
       "       -6.9319e-01,  2.6353e-02, -1.7606e-01, -1.1093e-01, -3.1353e-01,\n",
       "        3.7778e-02,  7.9112e-01, -5.4170e-01,  8.7150e-02,  5.9988e-01,\n",
       "        2.7619e-04, -8.9748e-02,  6.4409e-02, -4.9987e-01,  1.1341e+00,\n",
       "       -5.5197e-03, -9.6114e-02,  3.6236e-02, -5.6991e-02,  1.5069e-01,\n",
       "        5.7316e-01,  5.6014e-01,  5.5747e-01,  9.0284e-01,  5.7519e-02,\n",
       "       -1.4944e-02,  4.5344e-02,  6.7786e-02, -7.0512e-02, -9.0777e-01,\n",
       "        1.2656e-01,  4.4259e-02,  4.6547e-02, -7.4823e-02,  7.2846e-02,\n",
       "        2.5958e-01,  3.4121e-01, -6.5191e-02, -4.6948e-01, -1.5790e-01,\n",
       "       -1.0910e-02,  3.9587e-01, -4.0963e-01,  3.8696e-01,  2.9423e-01,\n",
       "        1.7795e-01, -4.8429e-01,  8.4503e-02,  3.3159e-01,  2.4691e-01,\n",
       "        4.5835e-01, -8.7178e-02, -2.0988e-01,  1.9493e-01,  4.4093e-01,\n",
       "        5.0326e-02,  8.2947e-02, -3.2116e-01,  7.2454e-02, -7.5988e-02,\n",
       "        3.1149e-01, -2.3042e+00,  1.6244e-01,  4.2601e-02, -2.0505e-02,\n",
       "       -1.3673e-01, -2.2033e-01,  3.8873e-01,  4.5140e-01,  1.0192e-01,\n",
       "       -4.2738e-01, -5.9931e-01, -4.9762e-01, -6.2913e-01,  3.3658e-01,\n",
       "        5.7093e-02, -6.5786e-01, -8.5133e-02, -5.3763e-02, -2.6886e-02,\n",
       "        1.5571e-01,  3.8897e-01, -7.2387e-01,  4.7279e-02,  9.5410e-02],\n",
       "      dtype=float32)"
      ]
     },
     "execution_count": 19,
     "metadata": {},
     "output_type": "execute_result"
    }
   ],
   "source": [
    "vectorizer.transform('test')"
   ]
  },
  {
   "cell_type": "markdown",
   "metadata": {},
   "source": [
    "### Classifying"
   ]
  },
  {
   "cell_type": "code",
   "execution_count": 84,
   "metadata": {
    "scrolled": true
   },
   "outputs": [],
   "source": [
    "from keras.preprocessing import sequence\n",
    "from keras.preprocessing.sequence import pad_sequences\n",
    "from keras.models import Sequential\n",
    "from keras.layers import Dense, Embedding, Dropout, Activation, Conv1D\n",
    "from keras.layers import LSTM, GlobalAveragePooling1D, SpatialDropout1D\n",
    "from keras.datasets import imdb\n",
    "from keras.callbacks import ModelCheckpoint\n",
    "from keras import regularizers\n",
    "from keras.preprocessing.text import Tokenizer\n",
    "from keras.layers import Flatten, GlobalMaxPool1D\n",
    "\n",
    "from keras.regularizers import l1, l2\n",
    "\n",
    "from sklearn.utils import class_weight"
   ]
  },
  {
   "cell_type": "code",
   "execution_count": 21,
   "metadata": {},
   "outputs": [],
   "source": [
    "def yes_no_int(text):\n",
    "    if text == \"Yes\":\n",
    "        return 1\n",
    "    else:\n",
    "        return 0"
   ]
  },
  {
   "cell_type": "code",
   "execution_count": 22,
   "metadata": {},
   "outputs": [],
   "source": [
    "train_df['labels'] = train_df['labels'].apply(yes_no_int)\n",
    "test_df['labels'] = test_df['labels'].apply(yes_no_int)"
   ]
  },
  {
   "cell_type": "code",
   "execution_count": 23,
   "metadata": {},
   "outputs": [
    {
     "data": {
      "text/plain": [
       "4649"
      ]
     },
     "execution_count": 23,
     "metadata": {},
     "output_type": "execute_result"
    }
   ],
   "source": [
    "texts = list(train_df['text'])\n",
    "texts.extend(test_df['text'])\n",
    "len(texts)"
   ]
  },
  {
   "cell_type": "code",
   "execution_count": 24,
   "metadata": {},
   "outputs": [
    {
     "data": {
      "text/plain": [
       "4649"
      ]
     },
     "execution_count": 24,
     "metadata": {},
     "output_type": "execute_result"
    }
   ],
   "source": [
    "labels = list(train_df['labels'])\n",
    "labels.extend(test_df['labels'])\n",
    "len(labels)"
   ]
  },
  {
   "cell_type": "code",
   "execution_count": 25,
   "metadata": {},
   "outputs": [],
   "source": [
    "tokenizer = Tokenizer(num_words=6000, filters='!\"#$%&()*+,-./:;<=>?@[\\]^_`{|}~', lower=True)"
   ]
  },
  {
   "cell_type": "code",
   "execution_count": 26,
   "metadata": {},
   "outputs": [],
   "source": [
    "tokenizer.fit_on_texts(texts)"
   ]
  },
  {
   "cell_type": "code",
   "execution_count": 28,
   "metadata": {},
   "outputs": [],
   "source": [
    "vocab_size = len(tokenizer.word_index)"
   ]
  },
  {
   "cell_type": "code",
   "execution_count": 29,
   "metadata": {},
   "outputs": [],
   "source": [
    "embedding_matrix = np.zeros((vocab_size, 300))\n",
    "\n",
    "for word, i in tokenizer.word_index.items():\n",
    "    embedding_vector = vectorizer.transform(word)\n",
    "    if embedding_vector is not None:\n",
    "        embedding_matrix[i] = embedding_vector"
   ]
  },
  {
   "cell_type": "code",
   "execution_count": 30,
   "metadata": {},
   "outputs": [
    {
     "name": "stdout",
     "output_type": "stream",
     "text": [
      "[0.94349845 1.06369983]\n"
     ]
    }
   ],
   "source": [
    "class_weights = class_weight.compute_class_weight('balanced',\n",
    "                                                 train_df['labels'].unique(),\n",
    "                                                 train_df['labels'])\n",
    "print(class_weights)"
   ]
  },
  {
   "cell_type": "code",
   "execution_count": 31,
   "metadata": {},
   "outputs": [],
   "source": [
    "x_test = tokenizer.texts_to_sequences(test_df['text'].values)\n",
    "x_test = pad_sequences(x_test, maxlen=216, truncating='post')\n",
    "x_train = tokenizer.texts_to_sequences(train_df['text'].values)\n",
    "x_train = pad_sequences(x_train, maxlen=216, truncating='post')"
   ]
  },
  {
   "cell_type": "markdown",
   "metadata": {},
   "source": [
    "### Model\n",
    "\n",
    "I have already used max pooling in solution 2, which was the best result. Here I'm trying to improve score  \n",
    "by using 1D Convolutional Neural Network along with Glove word embedding. Conv1D seems to be a successful solution for deriving sequence features."
   ]
  },
  {
   "cell_type": "code",
   "execution_count": 108,
   "metadata": {},
   "outputs": [
    {
     "name": "stdout",
     "output_type": "stream",
     "text": [
      "_________________________________________________________________\n",
      "Layer (type)                 Output Shape              Param #   \n",
      "=================================================================\n",
      "embedding_19 (Embedding)     (None, 216, 300)          2062800   \n",
      "_________________________________________________________________\n",
      "conv1d_7 (Conv1D)            (None, 212, 128)          192128    \n",
      "_________________________________________________________________\n",
      "global_max_pooling1d_17 (Glo (None, 128)               0         \n",
      "_________________________________________________________________\n",
      "dense_30 (Dense)             (None, 300)               38700     \n",
      "_________________________________________________________________\n",
      "dense_31 (Dense)             (None, 1)                 301       \n",
      "=================================================================\n",
      "Total params: 2,293,929\n",
      "Trainable params: 231,129\n",
      "Non-trainable params: 2,062,800\n",
      "_________________________________________________________________\n"
     ]
    }
   ],
   "source": [
    "model = Sequential()\n",
    "model.add(Embedding(vocab_size, 300, \n",
    "                       weights=[embedding_matrix], \n",
    "                       input_length=x_train.shape[1], \n",
    "                       trainable=False))\n",
    "model.add(Conv1D(128, 5, activation='relu'))\n",
    "model.add(GlobalMaxPool1D())\n",
    "model.add(Dense(300, activation='relu'))\n",
    "model.add(Dense(1, activation='sigmoid'))\n",
    "model.compile(optimizer='adam',\n",
    "              loss='binary_crossentropy',\n",
    "              metrics=['accuracy'])\n",
    "model.summary()"
   ]
  },
  {
   "cell_type": "code",
   "execution_count": 109,
   "metadata": {},
   "outputs": [],
   "source": [
    "checkpointer = ModelCheckpoint(filepath=\"weights_sol3a.hdf5\", verbose=1, save_best_only=True)"
   ]
  },
  {
   "cell_type": "code",
   "execution_count": 110,
   "metadata": {
    "scrolled": true
   },
   "outputs": [
    {
     "name": "stdout",
     "output_type": "stream",
     "text": [
      "Train on 3657 samples, validate on 992 samples\n",
      "Epoch 1/12\n",
      "3657/3657 [==============================] - 16s 4ms/step - loss: 0.6740 - acc: 0.5824 - val_loss: 0.4834 - val_acc: 0.7954\n",
      "\n",
      "Epoch 00001: val_loss improved from inf to 0.48340, saving model to weights_sol3a.hdf5\n",
      "Epoch 2/12\n",
      "3657/3657 [==============================] - 16s 4ms/step - loss: 0.5115 - acc: 0.7525 - val_loss: 0.4549 - val_acc: 0.8165\n",
      "\n",
      "Epoch 00002: val_loss improved from 0.48340 to 0.45488, saving model to weights_sol3a.hdf5\n",
      "Epoch 3/12\n",
      "3657/3657 [==============================] - 16s 4ms/step - loss: 0.4195 - acc: 0.8130 - val_loss: 0.4012 - val_acc: 0.8256\n",
      "\n",
      "Epoch 00003: val_loss improved from 0.45488 to 0.40121, saving model to weights_sol3a.hdf5\n",
      "Epoch 4/12\n",
      "3657/3657 [==============================] - 15s 4ms/step - loss: 0.3248 - acc: 0.8679 - val_loss: 0.4339 - val_acc: 0.8034\n",
      "\n",
      "Epoch 00004: val_loss did not improve from 0.40121\n",
      "Epoch 5/12\n",
      "3657/3657 [==============================] - 17s 5ms/step - loss: 0.2390 - acc: 0.9185 - val_loss: 0.5137 - val_acc: 0.7530\n",
      "\n",
      "Epoch 00005: val_loss did not improve from 0.40121\n",
      "Epoch 6/12\n",
      "3657/3657 [==============================] - 17s 5ms/step - loss: 0.1648 - acc: 0.9541 - val_loss: 0.3520 - val_acc: 0.8488\n",
      "\n",
      "Epoch 00006: val_loss improved from 0.40121 to 0.35201, saving model to weights_sol3a.hdf5\n",
      "Epoch 7/12\n",
      "3657/3657 [==============================] - 16s 4ms/step - loss: 0.0949 - acc: 0.9855 - val_loss: 0.4044 - val_acc: 0.8165\n",
      "\n",
      "Epoch 00007: val_loss did not improve from 0.35201\n",
      "Epoch 8/12\n",
      "3657/3657 [==============================] - 17s 5ms/step - loss: 0.0522 - acc: 0.9940 - val_loss: 0.3993 - val_acc: 0.8286\n",
      "\n",
      "Epoch 00008: val_loss did not improve from 0.35201\n",
      "Epoch 9/12\n",
      "3657/3657 [==============================] - 17s 5ms/step - loss: 0.0295 - acc: 0.9978 - val_loss: 0.4967 - val_acc: 0.7944\n",
      "\n",
      "Epoch 00009: val_loss did not improve from 0.35201\n",
      "Epoch 10/12\n",
      "3657/3657 [==============================] - 17s 5ms/step - loss: 0.0173 - acc: 0.9989 - val_loss: 0.4904 - val_acc: 0.8145\n",
      "\n",
      "Epoch 00010: val_loss did not improve from 0.35201\n",
      "Epoch 11/12\n",
      "3657/3657 [==============================] - 16s 4ms/step - loss: 0.0101 - acc: 0.9997 - val_loss: 0.4874 - val_acc: 0.8216\n",
      "\n",
      "Epoch 00011: val_loss did not improve from 0.35201\n",
      "Epoch 12/12\n",
      "3657/3657 [==============================] - 17s 5ms/step - loss: 0.0061 - acc: 1.0000 - val_loss: 0.5803 - val_acc: 0.7883\n",
      "\n",
      "Epoch 00012: val_loss did not improve from 0.35201\n"
     ]
    }
   ],
   "source": [
    "history = model.fit(x_train, train_df['labels'],\n",
    "          class_weight=class_weights,\n",
    "          batch_size=256,\n",
    "          epochs=12,\n",
    "          validation_data=(x_test, test_df['labels']),\n",
    "          callbacks=[checkpointer])"
   ]
  },
  {
   "cell_type": "code",
   "execution_count": 111,
   "metadata": {
    "scrolled": true
   },
   "outputs": [
    {
     "data": {
      "image/png": "[encoded data removed]",
      "text/plain": [
       "<Figure size 864x360 with 2 Axes>"
      ]
     },
     "metadata": {},
     "output_type": "display_data"
    }
   ],
   "source": [
    "plot_history(history)"
   ]
  },
  {
   "cell_type": "code",
   "execution_count": 112,
   "metadata": {},
   "outputs": [],
   "source": [
    "model.load_weights(\"weights_sol3a.hdf5\")"
   ]
  },
  {
   "cell_type": "code",
   "execution_count": 113,
   "metadata": {},
   "outputs": [
    {
     "name": "stdout",
     "output_type": "stream",
     "text": [
      "992/992 [==============================] - 1s 1ms/step\n",
      "Test loss: 0.3520056095815474\n",
      "Test accuracy: 0.8487903187351842\n"
     ]
    }
   ],
   "source": [
    "score, acc = model.evaluate(x_test, test_df['labels'], batch_size=512)\n",
    "print('Test loss:', score)\n",
    "print('Test accuracy:', acc)"
   ]
  },
  {
   "cell_type": "markdown",
   "metadata": {},
   "source": [
    "Here I've reached 84.8% accuracy"
   ]
  },
  {
   "cell_type": "markdown",
   "metadata": {},
   "source": [
    "### Results\n",
    "\n",
    "Based on all three solutions I've made, I would recommend to use 3rd solution as it is the most accurate and still it doesn't require a lot of time and computing power to train."
   ]
  },
  {
   "cell_type": "code",
   "execution_count": null,
   "metadata": {},
   "outputs": [],
   "source": []
  }
 ],
 "metadata": {
  "kernelspec": {
   "display_name": "Python 3",
   "language": "python",
   "name": "python3"
  },
  "language_info": {
   "codemirror_mode": {
    "name": "ipython",
    "version": 3
   },
   "file_extension": ".py",
   "mimetype": "text/x-python",
   "name": "python",
   "nbconvert_exporter": "python",
   "pygments_lexer": "ipython3",
   "version": "3.6.5"
  }
 },
 "nbformat": 4,
 "nbformat_minor": 2
}
