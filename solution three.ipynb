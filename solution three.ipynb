{
 "cells": [
  {
   "cell_type": "code",
   "execution_count": 120,
   "metadata": {},
   "outputs": [],
   "source": [
    "import pandas as pd\n",
    "import numpy as np\n",
    "\n",
    "from copy import deepcopy\n",
    "\n",
    "from gensim.test.utils import datapath, get_tmpfile\n",
    "from gensim.scripts.glove2word2vec import glove2word2vec\n",
    "\n",
    "from gensim.models import KeyedVectors\n",
    "\n",
    "GLOVE_PATH = \"glove.6B/glove.6B.300d.txt\"\n",
    "GLOVE_W2V_FORMAT = \"glove_w2v.txt\"\n",
    "FINAL_MODEL_PATH = \"glove_final.txt\"\n",
    "\n",
    "import matplotlib.pyplot as plt\n",
    "plt.style.use('ggplot')"
   ]
  },
  {
   "cell_type": "code",
   "execution_count": 121,
   "metadata": {},
   "outputs": [],
   "source": [
    "def plot_history(history):\n",
    "    acc = history.history['acc']\n",
    "    val_acc = history.history['val_acc']\n",
    "    loss = history.history['loss']\n",
    "    val_loss = history.history['val_loss']\n",
    "    x = range(1, len(acc) + 1)\n",
    "\n",
    "    plt.figure(figsize=(12, 5))\n",
    "    plt.subplot(1, 2, 1)\n",
    "    plt.plot(x, acc, 'b', label='Training acc')\n",
    "    plt.plot(x, val_acc, 'r', label='Validation acc')\n",
    "    plt.title('Training and validation accuracy')\n",
    "    plt.legend()\n",
    "    plt.subplot(1, 2, 2)\n",
    "    plt.plot(x, loss, 'b', label='Training loss')\n",
    "    plt.plot(x, val_loss, 'r', label='Validation loss')\n",
    "    plt.title('Training and validation loss')\n",
    "    plt.legend()"
   ]
  },
  {
   "cell_type": "markdown",
   "metadata": {},
   "source": [
    "### Preparing embeddings"
   ]
  },
  {
   "cell_type": "code",
   "execution_count": 7,
   "metadata": {},
   "outputs": [],
   "source": [
    "# _ = glove2word2vec(GLOVE_PATH, GLOVE_W2V_FORMAT)"
   ]
  },
  {
   "cell_type": "code",
   "execution_count": 129,
   "metadata": {},
   "outputs": [],
   "source": [
    "model = KeyedVectors.load_word2vec_format(GLOVE_W2V_FORMAT)"
   ]
  },
  {
   "cell_type": "code",
   "execution_count": 4,
   "metadata": {},
   "outputs": [],
   "source": [
    "def clean_pos(model):\n",
    "    \"\"\"\n",
    "    cleaning pos\n",
    "    \"\"\"\n",
    "    new_vocab = {}\n",
    "    for k in model.vocab.keys():\n",
    "        new_vocab[k.split('_')[0]] = deepcopy(model.vocab[k])\n",
    "    model.vocab = new_vocab\n",
    "    model.index2word = [i.split('_')[0] for i in model.index2word]\n",
    "    return model\n"
   ]
  },
  {
   "cell_type": "code",
   "execution_count": 7,
   "metadata": {},
   "outputs": [],
   "source": [
    "clean_model = clean_pos(model)\n",
    "clean_model.save(FINAL_MODEL_PATH)"
   ]
  },
  {
   "cell_type": "code",
   "execution_count": 83,
   "metadata": {},
   "outputs": [],
   "source": [
    "class Vectorizer(object):\n",
    "\n",
    "    def __init__(self, model):\n",
    "        \n",
    "        self.model = model\n",
    "        self.dim = model.vector_size\n",
    "\n",
    "    def transform(self, word):\n",
    "      \n",
    "        if word in self.model.vocab.keys():\n",
    "            word_vec = self.model.word_vec(word)\n",
    "                    \n",
    "            return np.array(word_vec)\n",
    "        \n",
    "        else:\n",
    "            return None"
   ]
  },
  {
   "cell_type": "code",
   "execution_count": 84,
   "metadata": {},
   "outputs": [],
   "source": [
    "vectorizer = Vectorizer(clean_model)"
   ]
  },
  {
   "cell_type": "code",
   "execution_count": 86,
   "metadata": {
    "scrolled": true
   },
   "outputs": [
    {
     "data": {
      "text/plain": [
       "(300,)"
      ]
     },
     "execution_count": 86,
     "metadata": {},
     "output_type": "execute_result"
    }
   ],
   "source": [
    "vectorizer.transform('test').shape"
   ]
  },
  {
   "cell_type": "markdown",
   "metadata": {},
   "source": [
    "### Preparing data"
   ]
  },
  {
   "cell_type": "code",
   "execution_count": 20,
   "metadata": {},
   "outputs": [],
   "source": [
    "train_df = pd.read_csv('train.csv')\n",
    "test_df = pd.read_csv('test.csv')"
   ]
  },
  {
   "cell_type": "code",
   "execution_count": 33,
   "metadata": {},
   "outputs": [
    {
     "name": "stderr",
     "output_type": "stream",
     "text": [
      "/home/timmagg/anaconda3/lib/python3.6/site-packages/numpy/core/fromnumeric.py:2957: RuntimeWarning: Mean of empty slice.\n",
      "  out=out, **kwargs)\n",
      "/home/timmagg/anaconda3/lib/python3.6/site-packages/numpy/core/_methods.py:80: RuntimeWarning: invalid value encountered in double_scalars\n",
      "  ret = ret.dtype.type(ret / rcount)\n"
     ]
    }
   ],
   "source": [
    "emb_train = vectorizer.transform(train_df['text'])\n",
    "emb_test = vectorizer.transform(test_df['text'])"
   ]
  },
  {
   "cell_type": "code",
   "execution_count": 61,
   "metadata": {},
   "outputs": [
    {
     "data": {
      "text/plain": [
       "(3657,)"
      ]
     },
     "execution_count": 61,
     "metadata": {},
     "output_type": "execute_result"
    }
   ],
   "source": [
    "emb_train.shape"
   ]
  },
  {
   "cell_type": "code",
   "execution_count": 58,
   "metadata": {},
   "outputs": [
    {
     "data": {
      "text/plain": [
       "(300,)"
      ]
     },
     "execution_count": 58,
     "metadata": {},
     "output_type": "execute_result"
    }
   ],
   "source": [
    "emb_train[0].shape"
   ]
  },
  {
   "cell_type": "markdown",
   "metadata": {},
   "source": [
    "### Classifying"
   ]
  },
  {
   "cell_type": "code",
   "execution_count": 63,
   "metadata": {
    "scrolled": true
   },
   "outputs": [],
   "source": [
    "from keras.preprocessing import sequence\n",
    "from keras.preprocessing.sequence import pad_sequences\n",
    "from keras.models import Sequential\n",
    "from keras.layers import Dense, Embedding, Dropout, Activation\n",
    "from keras.layers import LSTM, GlobalAveragePooling1D, SpatialDropout1D\n",
    "from keras.datasets import imdb\n",
    "from keras.callbacks import ModelCheckpoint\n",
    "from keras import regularizers\n",
    "from keras.preprocessing.text import Tokenizer\n",
    "from keras.layers import Flatten, GlobalMaxPool1D\n",
    "\n",
    "from sklearn.utils import class_weight"
   ]
  },
  {
   "cell_type": "code",
   "execution_count": 39,
   "metadata": {},
   "outputs": [],
   "source": [
    "def yes_no_int(text):\n",
    "    if text == \"Yes\":\n",
    "        return 1\n",
    "    else:\n",
    "        return 0"
   ]
  },
  {
   "cell_type": "code",
   "execution_count": 40,
   "metadata": {},
   "outputs": [],
   "source": [
    "train_df['labels'] = train_df['labels'].apply(yes_no_int)\n",
    "test_df['labels'] = test_df['labels'].apply(yes_no_int)"
   ]
  },
  {
   "cell_type": "code",
   "execution_count": 41,
   "metadata": {},
   "outputs": [
    {
     "data": {
      "text/plain": [
       "4649"
      ]
     },
     "execution_count": 41,
     "metadata": {},
     "output_type": "execute_result"
    }
   ],
   "source": [
    "texts = list(train_df['text'])\n",
    "texts.extend(test_df['text'])\n",
    "len(texts)"
   ]
  },
  {
   "cell_type": "code",
   "execution_count": 42,
   "metadata": {},
   "outputs": [
    {
     "data": {
      "text/plain": [
       "4649"
      ]
     },
     "execution_count": 42,
     "metadata": {},
     "output_type": "execute_result"
    }
   ],
   "source": [
    "labels = list(train_df['labels'])\n",
    "labels.extend(test_df['labels'])\n",
    "len(labels)"
   ]
  },
  {
   "cell_type": "code",
   "execution_count": 43,
   "metadata": {},
   "outputs": [],
   "source": [
    "tokenizer = Tokenizer(num_words=6000, filters='!\"#$%&()*+,-./:;<=>?@[\\]^_`{|}~', lower=True)"
   ]
  },
  {
   "cell_type": "code",
   "execution_count": 44,
   "metadata": {},
   "outputs": [],
   "source": [
    "tokenizer.fit_on_texts(texts)"
   ]
  },
  {
   "cell_type": "code",
   "execution_count": 90,
   "metadata": {},
   "outputs": [],
   "source": [
    "embedding_matrix = np.zeros((vocab_size, 300))\n",
    "\n",
    "for word, i in tokenizer.word_index.items():\n",
    "    embedding_vector = vectorizer.transform(word)\n",
    "    if embedding_vector is not None:\n",
    "        embedding_matrix[i] = embedding_vector"
   ]
  },
  {
   "cell_type": "code",
   "execution_count": 52,
   "metadata": {},
   "outputs": [
    {
     "name": "stdout",
     "output_type": "stream",
     "text": [
      "[0.94349845 1.06369983]\n"
     ]
    }
   ],
   "source": [
    "class_weights = class_weight.compute_class_weight('balanced',\n",
    "                                                 train_df['labels'].unique(),\n",
    "                                                 train_df['labels'])\n",
    "print(class_weights)"
   ]
  },
  {
   "cell_type": "code",
   "execution_count": 93,
   "metadata": {},
   "outputs": [],
   "source": [
    "x_test = tokenizer.texts_to_sequences(test_df['text'].values)\n",
    "x_test = pad_sequences(x_test, maxlen=216, truncating='post')\n",
    "x_train = tokenizer.texts_to_sequences(train_df['text'].values)\n",
    "x_train = pad_sequences(x_train, maxlen=216, truncating='post')"
   ]
  },
  {
   "cell_type": "code",
   "execution_count": 94,
   "metadata": {},
   "outputs": [],
   "source": [
    "vocab_size = len(tokenizer.word_index)"
   ]
  },
  {
   "cell_type": "code",
   "execution_count": 110,
   "metadata": {},
   "outputs": [
    {
     "name": "stdout",
     "output_type": "stream",
     "text": [
      "_________________________________________________________________\n",
      "Layer (type)                 Output Shape              Param #   \n",
      "=================================================================\n",
      "embedding_7 (Embedding)      (None, 216, 300)          2062800   \n",
      "_________________________________________________________________\n",
      "global_max_pooling1d_6 (Glob (None, 300)               0         \n",
      "_________________________________________________________________\n",
      "dense_13 (Dense)             (None, 512)               154112    \n",
      "_________________________________________________________________\n",
      "dense_14 (Dense)             (None, 1)                 513       \n",
      "=================================================================\n",
      "Total params: 2,217,425\n",
      "Trainable params: 154,625\n",
      "Non-trainable params: 2,062,800\n",
      "_________________________________________________________________\n"
     ]
    }
   ],
   "source": [
    "model = Sequential()\n",
    "model.add(Embedding(vocab_size, 300, \n",
    "                       weights=[embedding_matrix], \n",
    "                       input_length=x_train.shape[1], \n",
    "                       trainable=False))\n",
    "model.add(GlobalMaxPool1D())\n",
    "model.add(Dense(512, activation='relu'))\n",
    "model.add(Dense(1, activation='sigmoid'))\n",
    "model.compile(optimizer='adam',\n",
    "              loss='binary_crossentropy',\n",
    "              metrics=['accuracy'])\n",
    "model.summary()"
   ]
  },
  {
   "cell_type": "code",
   "execution_count": 111,
   "metadata": {},
   "outputs": [],
   "source": [
    "checkpointer = ModelCheckpoint(filepath=\"weights_sol3.hdf5\", verbose=1, save_best_only=True)"
   ]
  },
  {
   "cell_type": "code",
   "execution_count": 125,
   "metadata": {
    "scrolled": true
   },
   "outputs": [
    {
     "name": "stdout",
     "output_type": "stream",
     "text": [
      "Train on 3657 samples, validate on 992 samples\n",
      "Epoch 1/30\n",
      "3657/3657 [==============================] - 0s 108us/step - loss: 0.4851 - acc: 0.7566 - val_loss: 0.8125 - val_acc: 0.5343\n",
      "\n",
      "Epoch 00001: val_loss did not improve from 0.45519\n",
      "Epoch 2/30\n",
      "3657/3657 [==============================] - 0s 103us/step - loss: 0.4846 - acc: 0.7616 - val_loss: 0.9093 - val_acc: 0.4738\n",
      "\n",
      "Epoch 00002: val_loss did not improve from 0.45519\n",
      "Epoch 3/30\n",
      "3657/3657 [==============================] - 0s 114us/step - loss: 0.4818 - acc: 0.7566 - val_loss: 0.6684 - val_acc: 0.6169\n",
      "\n",
      "Epoch 00003: val_loss did not improve from 0.45519\n",
      "Epoch 4/30\n",
      "3657/3657 [==============================] - 0s 118us/step - loss: 0.4417 - acc: 0.7935 - val_loss: 0.5385 - val_acc: 0.7208\n",
      "\n",
      "Epoch 00004: val_loss did not improve from 0.45519\n",
      "Epoch 5/30\n",
      "3657/3657 [==============================] - 0s 112us/step - loss: 0.4304 - acc: 0.7952 - val_loss: 0.4635 - val_acc: 0.7833\n",
      "\n",
      "Epoch 00005: val_loss did not improve from 0.45519\n",
      "Epoch 6/30\n",
      "3657/3657 [==============================] - 0s 104us/step - loss: 0.4216 - acc: 0.8127 - val_loss: 0.5028 - val_acc: 0.7470\n",
      "\n",
      "Epoch 00006: val_loss did not improve from 0.45519\n",
      "Epoch 7/30\n",
      "3657/3657 [==============================] - 0s 108us/step - loss: 0.4127 - acc: 0.8102 - val_loss: 0.5898 - val_acc: 0.6835\n",
      "\n",
      "Epoch 00007: val_loss did not improve from 0.45519\n",
      "Epoch 8/30\n",
      "3657/3657 [==============================] - 0s 110us/step - loss: 0.4098 - acc: 0.8116 - val_loss: 0.5517 - val_acc: 0.7067\n",
      "\n",
      "Epoch 00008: val_loss did not improve from 0.45519\n",
      "Epoch 9/30\n",
      "3657/3657 [==============================] - 0s 101us/step - loss: 0.4016 - acc: 0.8198 - val_loss: 0.4957 - val_acc: 0.7460\n",
      "\n",
      "Epoch 00009: val_loss did not improve from 0.45519\n",
      "Epoch 10/30\n",
      "3657/3657 [==============================] - 0s 110us/step - loss: 0.3927 - acc: 0.8275 - val_loss: 0.5435 - val_acc: 0.7087\n",
      "\n",
      "Epoch 00010: val_loss did not improve from 0.45519\n",
      "Epoch 11/30\n",
      "3657/3657 [==============================] - 0s 109us/step - loss: 0.3976 - acc: 0.8220 - val_loss: 0.5351 - val_acc: 0.7157\n",
      "\n",
      "Epoch 00011: val_loss did not improve from 0.45519\n",
      "Epoch 12/30\n",
      "3657/3657 [==============================] - 0s 110us/step - loss: 0.3910 - acc: 0.8277 - val_loss: 0.4772 - val_acc: 0.7702\n",
      "\n",
      "Epoch 00012: val_loss did not improve from 0.45519\n",
      "Epoch 13/30\n",
      "3657/3657 [==============================] - 0s 111us/step - loss: 0.3898 - acc: 0.8324 - val_loss: 0.5146 - val_acc: 0.7319\n",
      "\n",
      "Epoch 00013: val_loss did not improve from 0.45519\n",
      "Epoch 14/30\n",
      "3657/3657 [==============================] - 0s 109us/step - loss: 0.3841 - acc: 0.8324 - val_loss: 0.7364 - val_acc: 0.5857\n",
      "\n",
      "Epoch 00014: val_loss did not improve from 0.45519\n",
      "Epoch 15/30\n",
      "3657/3657 [==============================] - 0s 107us/step - loss: 0.4225 - acc: 0.7993 - val_loss: 0.4647 - val_acc: 0.7833\n",
      "\n",
      "Epoch 00015: val_loss did not improve from 0.45519\n",
      "Epoch 16/30\n",
      "3657/3657 [==============================] - 0s 103us/step - loss: 0.3970 - acc: 0.8198 - val_loss: 0.4812 - val_acc: 0.7631\n",
      "\n",
      "Epoch 00016: val_loss did not improve from 0.45519\n",
      "Epoch 17/30\n",
      "3657/3657 [==============================] - 0s 110us/step - loss: 0.3781 - acc: 0.8316 - val_loss: 0.7690 - val_acc: 0.5766\n",
      "\n",
      "Epoch 00017: val_loss did not improve from 0.45519\n",
      "Epoch 18/30\n",
      "3657/3657 [==============================] - 0s 107us/step - loss: 0.4289 - acc: 0.7976 - val_loss: 0.5069 - val_acc: 0.7419\n",
      "\n",
      "Epoch 00018: val_loss did not improve from 0.45519\n",
      "Epoch 19/30\n",
      "3657/3657 [==============================] - 0s 109us/step - loss: 0.3853 - acc: 0.8294 - val_loss: 0.4799 - val_acc: 0.7752\n",
      "\n",
      "Epoch 00019: val_loss did not improve from 0.45519\n",
      "Epoch 20/30\n",
      "3657/3657 [==============================] - 0s 108us/step - loss: 0.3735 - acc: 0.8378 - val_loss: 0.5709 - val_acc: 0.6925\n",
      "\n",
      "Epoch 00020: val_loss did not improve from 0.45519\n",
      "Epoch 21/30\n",
      "3657/3657 [==============================] - 0s 109us/step - loss: 0.3803 - acc: 0.8280 - val_loss: 0.4825 - val_acc: 0.7692\n",
      "\n",
      "Epoch 00021: val_loss did not improve from 0.45519\n",
      "Epoch 22/30\n",
      "3657/3657 [==============================] - 0s 110us/step - loss: 0.3726 - acc: 0.8354 - val_loss: 0.5240 - val_acc: 0.7278\n",
      "\n",
      "Epoch 00022: val_loss did not improve from 0.45519\n",
      "Epoch 23/30\n",
      "3657/3657 [==============================] - 0s 109us/step - loss: 0.3672 - acc: 0.8477 - val_loss: 0.5324 - val_acc: 0.7198\n",
      "\n",
      "Epoch 00023: val_loss did not improve from 0.45519\n",
      "Epoch 24/30\n",
      "3657/3657 [==============================] - 0s 108us/step - loss: 0.3612 - acc: 0.8458 - val_loss: 0.5887 - val_acc: 0.6935\n",
      "\n",
      "Epoch 00024: val_loss did not improve from 0.45519\n",
      "Epoch 25/30\n",
      "3657/3657 [==============================] - 0s 109us/step - loss: 0.3616 - acc: 0.8469 - val_loss: 0.4793 - val_acc: 0.7792\n",
      "\n",
      "Epoch 00025: val_loss did not improve from 0.45519\n",
      "Epoch 26/30\n",
      "3657/3657 [==============================] - 0s 110us/step - loss: 0.3666 - acc: 0.8392 - val_loss: 0.6423 - val_acc: 0.6532\n",
      "\n",
      "Epoch 00026: val_loss did not improve from 0.45519\n",
      "Epoch 27/30\n",
      "3657/3657 [==============================] - 0s 110us/step - loss: 0.3753 - acc: 0.8285 - val_loss: 0.4945 - val_acc: 0.7550\n",
      "\n",
      "Epoch 00027: val_loss did not improve from 0.45519\n",
      "Epoch 28/30\n",
      "3657/3657 [==============================] - 0s 110us/step - loss: 0.3579 - acc: 0.8450 - val_loss: 0.4827 - val_acc: 0.7681\n",
      "\n",
      "Epoch 00028: val_loss did not improve from 0.45519\n",
      "Epoch 29/30\n",
      "3657/3657 [==============================] - 0s 108us/step - loss: 0.3575 - acc: 0.8532 - val_loss: 0.5434 - val_acc: 0.7157\n",
      "\n",
      "Epoch 00029: val_loss did not improve from 0.45519\n",
      "Epoch 30/30\n",
      "3657/3657 [==============================] - 0s 109us/step - loss: 0.3479 - acc: 0.8567 - val_loss: 0.4748 - val_acc: 0.7752\n",
      "\n",
      "Epoch 00030: val_loss did not improve from 0.45519\n"
     ]
    }
   ],
   "source": [
    "history = model.fit(x_train, train_df['labels'],\n",
    "          class_weight=class_weights,\n",
    "          batch_size=512,\n",
    "          epochs=30,\n",
    "          validation_data=(x_test, test_df['labels']),\n",
    "          callbacks=[checkpointer])"
   ]
  },
  {
   "cell_type": "code",
   "execution_count": 126,
   "metadata": {},
   "outputs": [
    {
     "data": {
      "image/png": "[encoded data removed]",
      "text/plain": [
       "<Figure size 864x360 with 2 Axes>"
      ]
     },
     "metadata": {},
     "output_type": "display_data"
    }
   ],
   "source": [
    "plot_history(history)"
   ]
  },
  {
   "cell_type": "code",
   "execution_count": 127,
   "metadata": {},
   "outputs": [],
   "source": [
    "model.load_weights(\"weights_sol3.hdf5\")"
   ]
  },
  {
   "cell_type": "code",
   "execution_count": 128,
   "metadata": {},
   "outputs": [
    {
     "name": "stdout",
     "output_type": "stream",
     "text": [
      "992/992 [==============================] - 0s 100us/step\n",
      "Test loss: 0.45519117001564274\n",
      "Test accuracy: 0.7943548521687908\n"
     ]
    }
   ],
   "source": [
    "score, acc = model.evaluate(x_test, test_df['labels'], batch_size=512)\n",
    "print('Test loss:', score)\n",
    "print('Test accuracy:', acc)"
   ]
  },
  {
   "cell_type": "code",
   "execution_count": null,
   "metadata": {},
   "outputs": [],
   "source": []
  }
 ],
 "metadata": {
  "kernelspec": {
   "display_name": "Python 3",
   "language": "python",
   "name": "python3"
  },
  "language_info": {
   "codemirror_mode": {
    "name": "ipython",
    "version": 3
   },
   "file_extension": ".py",
   "mimetype": "text/x-python",
   "name": "python",
   "nbconvert_exporter": "python",
   "pygments_lexer": "ipython3",
   "version": "3.6.5"
  }
 },
 "nbformat": 4,
 "nbformat_minor": 2
}
